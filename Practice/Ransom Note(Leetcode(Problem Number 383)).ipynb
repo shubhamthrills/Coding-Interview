{
 "cells": [
  {
   "cell_type": "markdown",
   "metadata": {},
   "source": [
    "# Question:\n",
    "    Given an arbitrary ransom note string and another string containing letters from all the magazines, write a function that will return true if the ransom note can be constructed from the magazines ; otherwise, it will return false.\n",
    "\n",
    "    Each letter in the magazine string can only be used once in your ransom note.\n",
    "    \n",
    "    NOTE:\n",
    "    1. Time complextiy  : O(N)\n",
    "    2. Space complexity : ----\n",
    "    3. You may assume that both strings contain only lowercase letters.\n",
    "\n",
    "    \n",
    "# Input/Output\n",
    "    Example\n",
    "    1. canConstruct(\"a\", \"b\") -> false\n",
    "    2. canConstruct(\"aa\", \"ab\") -> false\n",
    "    3. canConstruct(\"aa\", \"aab\") -> true\n",
    "###### Leetcode(Problem Number: 383)"
   ]
  },
  {
   "cell_type": "code",
   "execution_count": 1,
   "metadata": {},
   "outputs": [],
   "source": [
    "def canConstruct(ransomNote,magazine):\n",
    "        d=dict()\n",
    "        for item in magazine:\n",
    "            if item not in d:\n",
    "                d[item]=1\n",
    "            else:\n",
    "                d[item]+=1\n",
    "        for item in ransomNote:\n",
    "            if item in d:\n",
    "                if d[item]==0:\n",
    "                    return False\n",
    "                d[item]-=1\n",
    "            else:\n",
    "                return False\n",
    "        return True\n",
    "        "
   ]
  },
  {
   "cell_type": "code",
   "execution_count": 2,
   "metadata": {},
   "outputs": [
    {
     "name": "stdout",
     "output_type": "stream",
     "text": [
      "Enter Number of test cases:3\n",
      "ransomNote:a\n",
      "magazineb\n",
      "False\n",
      "ransomNote:aa\n",
      "magazineab\n",
      "False\n",
      "ransomNote:aa\n",
      "magazineaab\n",
      "True\n"
     ]
    }
   ],
   "source": [
    "for testcase in range (int(input(\"Enter Number of test cases:\"))):\n",
    "    ransomNote,magazine=input(\"ransomNote:\"),input(\"magazine\")\n",
    "    print(canConstruct(ransomNote,magazine))"
   ]
  },
  {
   "cell_type": "markdown",
   "metadata": {},
   "source": [
    "### Thanks, \n",
    "\n",
    "### Shubham Sagar\n",
    "\n",
    "### Follow me for more interesting programming questions :\n",
    "\t\t\t\t\t\t\thttps://www.github.com/shubhamthrills\n",
    "\t\t\t\t\t\t\thttps://www.instagaram.com/shubhamthrills\n",
    "\t\t\t\t\t\t\thttps://www.linkedin.com/in/shubhamsagar"
   ]
  }
 ],
 "metadata": {
  "kernelspec": {
   "display_name": "Python 3",
   "language": "python",
   "name": "python3"
  },
  "language_info": {
   "codemirror_mode": {
    "name": "ipython",
    "version": 3
   },
   "file_extension": ".py",
   "mimetype": "text/x-python",
   "name": "python",
   "nbconvert_exporter": "python",
   "pygments_lexer": "ipython3",
   "version": "3.7.4"
  }
 },
 "nbformat": 4,
 "nbformat_minor": 2
}
