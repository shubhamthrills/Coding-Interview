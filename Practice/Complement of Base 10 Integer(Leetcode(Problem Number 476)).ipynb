{
 "cells": [
  {
   "cell_type": "markdown",
   "metadata": {},
   "source": [
    "# Question:\n",
    "    Every non-negative integer N has a binary representation.  For example, 5 can be represented as \"101\" in binary, 11 as \"1011\" in binary, and so on.  Note that except for N = 0, there are no leading zeroes in any binary representation.\n",
    "\n",
    "    The complement of a binary representation is the number in binary you get when changing every 1 to a 0 and 0 to a 1.  For example, the complement of \"101\" in binary is \"010\" in binary.\n",
    "\n",
    "    For a given number N in base-10, return the complement of it's binary representation as a base-10 integer.\n",
    "    \n",
    "    NOTE:\n",
    "    1. Time complextiy  : ----\n",
    "    2. Space complexity : ----\n",
    "    3. You may assume that both strings contain only lowercase letters.\n",
    "\n",
    "    \n",
    "# Input/Output\n",
    "    Example 1:\n",
    "\n",
    "    Input: 5\n",
    "    Output: 2\n",
    "    Explanation: 5 is \"101\" in binary, with complement \"010\" in binary, which is 2 in base-10.\n",
    "\n",
    "    Example 2:\n",
    "\n",
    "    Input: 7\n",
    "    Output: 0\n",
    "    Explanation: 7 is \"111\" in binary, with complement \"000\" in binary, which is 0 in base-10.\n",
    "\n",
    "    Example 3:\n",
    "\n",
    "    Input: 10\n",
    "    Output: 5\n",
    "    Explanation: 10 is \"1010\" in binary, with complement \"0101\" in binary, which is 5 in base-10.\n",
    "###### Leetcode(Problem Number: 1009 and 476)"
   ]
  },
  {
   "cell_type": "code",
   "execution_count": 1,
   "metadata": {},
   "outputs": [],
   "source": [
    "def findComplement(num):\n",
    "        mask = 1\n",
    "        while mask < num:\n",
    "            mask = (mask << 1) + 1   #Left shift by 1 bit\n",
    "        return num ^ mask   #XOR"
   ]
  },
  {
   "cell_type": "code",
   "execution_count": 4,
   "metadata": {},
   "outputs": [
    {
     "name": "stdout",
     "output_type": "stream",
     "text": [
      "Enter Number of test cases:3\n",
      "Enter Number5\n",
      "2\n",
      "Enter Number7\n",
      "0\n",
      "Enter Number10\n",
      "5\n"
     ]
    }
   ],
   "source": [
    "for testcase in range (int(input(\"Enter Number of test cases:\"))):\n",
    "    num=int(input(\"Enter Number\"))\n",
    "    print(findComplement(num))"
   ]
  },
  {
   "cell_type": "markdown",
   "metadata": {},
   "source": [
    "### Thanks, \n",
    "\n",
    "### Shubham Sagar\n",
    "\n",
    "### Follow me for more interesting programming questions :\n",
    "\t\t\t\t\t\t\thttps://www.github.com/shubhamthrills\n",
    "\t\t\t\t\t\t\thttps://www.instagaram.com/shubhamthrills\n",
    "\t\t\t\t\t\t\thttps://www.linkedin.com/in/shubhamsagar"
   ]
  }
 ],
 "metadata": {
  "kernelspec": {
   "display_name": "Python 3",
   "language": "python",
   "name": "python3"
  },
  "language_info": {
   "codemirror_mode": {
    "name": "ipython",
    "version": 3
   },
   "file_extension": ".py",
   "mimetype": "text/x-python",
   "name": "python",
   "nbconvert_exporter": "python",
   "pygments_lexer": "ipython3",
   "version": "3.7.4"
  }
 },
 "nbformat": 4,
 "nbformat_minor": 2
}
