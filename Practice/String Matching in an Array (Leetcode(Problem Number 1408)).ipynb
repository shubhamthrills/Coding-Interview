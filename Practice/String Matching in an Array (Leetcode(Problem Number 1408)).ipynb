{
 "cells": [
  {
   "cell_type": "markdown",
   "metadata": {},
   "source": [
    "# Question:\n",
    "    Given an array of string words. Return all strings in words which is substring of another word in any order. \n",
    "    String words[i] is substring of words[j], if can be obtained removing some characters to left and/or right side of words[j].\n",
    "    \n",
    "    NOTE:\n",
    "    1. Time complextiy  : ----\n",
    "    2. Space complexity : ----\n",
    "    3. 1 <= words.length <= 100\n",
    "    4. 1 <= words[i].length <= 30\n",
    "    5. words[i] contains only lowercase English letters.\n",
    "    6. It's guaranteed that words[i] will be unique.\n",
    "\n",
    "    \n",
    "# Input/Output\n",
    "    Example 1:\n",
    "\n",
    "    Input: words = [\"mass\",\"as\",\"hero\",\"superhero\"]\n",
    "    Output: [\"as\",\"hero\"]\n",
    "    Explanation: \"as\" is substring of \"mass\" and \"hero\" is substring of \"superhero\".\n",
    "    [\"hero\",\"as\"] is also a valid answer.\n",
    "\n",
    "    Example 2:\n",
    "\n",
    "    Input: words = [\"leetcode\",\"et\",\"code\"]\n",
    "    Output: [\"et\",\"code\"]\n",
    "    Explanation: \"et\", \"code\" are substring of \"leetcode\".\n",
    "\n",
    "    Example 3:\n",
    "\n",
    "    Input: words = [\"blue\",\"green\",\"bu\"]\n",
    "    Output: []\n",
    "\n",
    "###### Leetcode(Problem Number: 1408)"
   ]
  },
  {
   "cell_type": "code",
   "execution_count": 1,
   "metadata": {},
   "outputs": [],
   "source": [
    "def stringMatching(words):\n",
    "        res=[]\n",
    "        for i in range (len(words)):\n",
    "            for j in range (len(words)):\n",
    "                if(words[i] in words[j] and i!=j):\n",
    "                    if words[i] not in res:\n",
    "                        res.append(words[i])\n",
    "        return (res)"
   ]
  },
  {
   "cell_type": "code",
   "execution_count": 2,
   "metadata": {},
   "outputs": [
    {
     "name": "stdout",
     "output_type": "stream",
     "text": [
      "Enter Number of test cases:3\n",
      "Input:mass as hero superhero\n",
      "['as', 'hero']\n",
      "Input:leetcode et code\n",
      "['et', 'code']\n",
      "Input:blue green bu\n",
      "[]\n"
     ]
    }
   ],
   "source": [
    "for testcase in range (int(input(\"Enter Number of test cases:\"))):\n",
    "    words=input(\"Input:\").split(' ')\n",
    "    print(stringMatching(words))"
   ]
  },
  {
   "cell_type": "markdown",
   "metadata": {},
   "source": [
    "### Thanks, \n",
    "\n",
    "### Shubham Sagar\n",
    "\n",
    "### Follow me for more intresting programming questions :\n",
    "\t\t\t\t\t\t\thttps://www.github.com/shubhamthrills\n",
    "\t\t\t\t\t\t\thttps://www.instagaram.com/shubhamthrills\n",
    "\t\t\t\t\t\t\thttps://www.linkedin.com/in/shubhamsagar"
   ]
  }
 ],
 "metadata": {
  "kernelspec": {
   "display_name": "Python 3",
   "language": "python",
   "name": "python3"
  },
  "language_info": {
   "codemirror_mode": {
    "name": "ipython",
    "version": 3
   },
   "file_extension": ".py",
   "mimetype": "text/x-python",
   "name": "python",
   "nbconvert_exporter": "python",
   "pygments_lexer": "ipython3",
   "version": "3.7.4"
  }
 },
 "nbformat": 4,
 "nbformat_minor": 2
}
