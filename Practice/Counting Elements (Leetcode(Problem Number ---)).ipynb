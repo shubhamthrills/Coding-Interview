{
 "cells": [
  {
   "cell_type": "markdown",
   "metadata": {},
   "source": [
    "# Question:\n",
    "    Given an integer array arr, count element x such that x + 1 is also in arr.\n",
    "\n",
    "        \n",
    "    NOTE:\n",
    "    1. Time complexity  : ----\n",
    "    2. Space complexity : O(1)\n",
    "    3. If there're duplicates in arr, count them seperately.\n",
    "    4. Constraints:\n",
    "        1 <= arr.length <= 1000\n",
    "        0 <= arr[i] <= 1000\n",
    "\n",
    "    \n",
    "# Input/Output\n",
    "    Input: arr = [1,2,3]\n",
    "    Output: 2\n",
    "    Explanation: 1 and 2 are counted cause 2 and 3 are in arr.\n",
    "\n",
    "\n",
    "    Input: arr = [1,1,3,3,5,5,7,7]\n",
    "    Output: 0\n",
    "    Explanation: No numbers are counted, cause there's no 2, 4, 6, or 8 in arr.\n",
    "\n",
    "\n",
    "    Input: arr = [1,3,2,3,5,0]\n",
    "    Output: 3\n",
    "    Explanation: 0, 1 and 2 are counted cause 1, 2 and 3 are in arr.\n",
    "\n",
    "\n",
    "    Input: arr = [1,1,2,2]\n",
    "    Output: 2\n",
    "    Explanation: Two 1s are counted cause 2 is in arr.\n",
    " \n",
    "###### Leetcode(Problem Number: ---) (https://leetcode.com/problems/) "
   ]
  },
  {
   "cell_type": "markdown",
   "metadata": {},
   "source": [
    "#### Hint 1:\n",
    "\n",
    "Use hashset to store all elements.\n",
    "\n",
    "#### Hint 2:\n",
    "\n",
    "Loop again to count all valid elements."
   ]
  },
  {
   "cell_type": "code",
   "execution_count": 1,
   "metadata": {},
   "outputs": [],
   "source": [
    "def countElements(arr):\n",
    "        c=0\n",
    "        for i in range (len(arr)):\n",
    "            if(arr[i]+1 in arr):\n",
    "                c+=1\n",
    "        return (c)"
   ]
  },
  {
   "cell_type": "code",
   "execution_count": 2,
   "metadata": {},
   "outputs": [
    {
     "name": "stdout",
     "output_type": "stream",
     "text": [
      "Enter Number of test cases:4\n",
      "Array Input:1 2 3\n",
      "2\n",
      "Array Input:1 1 3 3 5 5 7 7\n",
      "0\n",
      "Array Input:1 3 2 3 5 0\n",
      "3\n",
      "Array Input:1 1 2 2\n",
      "2\n"
     ]
    }
   ],
   "source": [
    "for testcase in range (int(input(\"Enter Number of test cases:\"))):\n",
    "    nums=map(int , input(\"Array Input:\").split(' '))\n",
    "    nums=list(nums)\n",
    "    print(countElements(nums))"
   ]
  },
  {
   "cell_type": "markdown",
   "metadata": {},
   "source": [
    "### Thanks, \n",
    "\n",
    "### Shubham Sagar\n",
    "\n",
    "### DM for any assist: www.instagaram.com/shubhamthrills  or www.github.com/shubhamthrills"
   ]
  }
 ],
 "metadata": {
  "kernelspec": {
   "display_name": "Python 3",
   "language": "python",
   "name": "python3"
  },
  "language_info": {
   "codemirror_mode": {
    "name": "ipython",
    "version": 3
   },
   "file_extension": ".py",
   "mimetype": "text/x-python",
   "name": "python",
   "nbconvert_exporter": "python",
   "pygments_lexer": "ipython3",
   "version": "3.7.4"
  }
 },
 "nbformat": 4,
 "nbformat_minor": 2
}
