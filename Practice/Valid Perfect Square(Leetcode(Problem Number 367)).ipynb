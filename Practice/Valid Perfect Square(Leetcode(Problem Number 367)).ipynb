{
 "cells": [
  {
   "cell_type": "markdown",
   "metadata": {},
   "source": [
    "# Question:\n",
    "    Given a positive integer num, write a function which returns True if num is a perfect square else False.\n",
    "    \n",
    "    NOTE:\n",
    "    1. Time complextiy  : ----\n",
    "    2. Space complexity : ----\n",
    "    3. Do not use any built-in library function such as sqrt.\n",
    "\n",
    "    \n",
    "# Input/Output\n",
    "    Example 1:\n",
    "\n",
    "    Input: 16\n",
    "    Output: true\n",
    "\n",
    "    Example 2:\n",
    "\n",
    "    Input: 14\n",
    "    Output: false\n",
    "###### Leetcode(Problem Number: 367)"
   ]
  },
  {
   "cell_type": "code",
   "execution_count": 7,
   "metadata": {},
   "outputs": [],
   "source": [
    "def isPerfectSquare(num):\n",
    "        return (num ** 0.5).is_integer()"
   ]
  },
  {
   "cell_type": "code",
   "execution_count": 10,
   "metadata": {},
   "outputs": [
    {
     "name": "stdout",
     "output_type": "stream",
     "text": [
      "Enter Number of test cases:2\n",
      "Enter the Number:16\n",
      "True\n",
      "Enter the Number:14\n",
      "False\n"
     ]
    }
   ],
   "source": [
    "for testcase in range (int(input(\"Enter Number of test cases:\"))):\n",
    "    #nums=map(str , input(\"Input:\").split(' '))\n",
    "    #nums=list(nums)\n",
    "    nums=int(input(\"Enter the Number:\"))\n",
    "    print(isPerfectSquare(nums))"
   ]
  },
  {
   "cell_type": "markdown",
   "metadata": {},
   "source": [
    "### Thanks, \n",
    "\n",
    "### Shubham Sagar\n",
    "\n",
    "### Follow me for more interesting programming questions :\n",
    "\t\t\t\t\t\t\thttps://www.github.com/shubhamthrills\n",
    "\t\t\t\t\t\t\thttps://www.instagaram.com/shubhamthrills\n",
    "\t\t\t\t\t\t\thttps://www.linkedin.com/in/shubhamsagar"
   ]
  }
 ],
 "metadata": {
  "kernelspec": {
   "display_name": "Python 3",
   "language": "python",
   "name": "python3"
  },
  "language_info": {
   "codemirror_mode": {
    "name": "ipython",
    "version": 3
   },
   "file_extension": ".py",
   "mimetype": "text/x-python",
   "name": "python",
   "nbconvert_exporter": "python",
   "pygments_lexer": "ipython3",
   "version": "3.7.4"
  }
 },
 "nbformat": 4,
 "nbformat_minor": 2
}
