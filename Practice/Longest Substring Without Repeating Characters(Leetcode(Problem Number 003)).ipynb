{
 "cells": [
  {
   "cell_type": "markdown",
   "metadata": {},
   "source": [
    "# Question:\n",
    "    Given a string, find the length of the longest substring without repeating characters.\n",
    "    \n",
    "    NOTE:\n",
    "    1. Time complextiy  : ----\n",
    "    2. Space complexity : ----\n",
    "\n",
    "    \n",
    "# Input/Output\n",
    "    Example 1:\n",
    "\n",
    "    Input: \"abcabcbb\"\n",
    "    Output: 3 \n",
    "    Explanation: The answer is \"abc\", with the length of 3. \n",
    "\n",
    "    Example 2:\n",
    "\n",
    "    Input: \"bbbbb\"\n",
    "    Output: 1\n",
    "    Explanation: The answer is \"b\", with the length of 1.\n",
    "\n",
    "    Example 3:\n",
    "\n",
    "    Input: \"pwwkew\"\n",
    "    Output: 3\n",
    "    Explanation: The answer is \"wke\", with the length of 3. \n",
    "             Note that the answer must be a substring, \"pwke\" is a subsequence and not a substring.\n",
    "\n",
    "###### Leetcode(Problem Number: 003)"
   ]
  },
  {
   "cell_type": "markdown",
   "metadata": {},
   "source": [
    "#### Approach \n",
    "\n",
    "    Approach 1: Brute Force\n",
    "    Intuition\n",
    "\n",
    "    Check all the substring one by one to see if it has no duplicate character.\n",
    "\n",
    "    Algorithm\n",
    "\n",
    "    Suppose we have a function boolean allUnique(String substring) which will return true if the characters in the substring are all unique, otherwise false. We can iterate through all the possible substrings of the given string s and call the function allUnique. If it turns out to be true, then we update our answer of the maximum length of substring without duplicate characters.\n",
    "\n",
    "    Now let's fill the missing parts:\n",
    "\n",
    "    To enumerate all substrings of a given string, we enumerate the start and end indices of them. Suppose the start and end indices are ii and jj, respectively. Then we have 0 \\leq i \\lt j \\leq n0≤i<j≤n (here end index jj is exclusive by convention). Thus, using two nested loops with ii from 0 to n - 1n−1 and jj from i+1i+1 to nn, we can enumerate all the substrings of s.\n",
    "\n",
    "    To check if one string has duplicate characters, we can use a set. We iterate through all the characters in the string and put them into the set one by one. Before putting one character, we check if the set already contains it. If so, we return false. After the loop, we return true.\n",
    "    \n",
    "   ##### Java Code\n",
    "       public class Solution {\n",
    "    public int lengthOfLongestSubstring(String s) {\n",
    "        int n = s.length();\n",
    "        int ans = 0;\n",
    "        for (int i = 0; i < n; i++)\n",
    "            for (int j = i + 1; j <= n; j++)\n",
    "                if (allUnique(s, i, j)) ans = Math.max(ans, j - i);\n",
    "        return ans;\n",
    "    }\n",
    "\n",
    "    public boolean allUnique(String s, int start, int end) {\n",
    "        Set<Character> set = new HashSet<>();\n",
    "        for (int i = start; i < end; i++) {\n",
    "            Character ch = s.charAt(i);\n",
    "            if (set.contains(ch)) return false;\n",
    "            set.add(ch);\n",
    "        }\n",
    "        return true;\n",
    "    }\n",
    "}\n"
   ]
  },
  {
   "cell_type": "markdown",
   "metadata": {},
   "source": [
    "#### Approach 2: Sliding Window\n",
    "    Algorithm\n",
    "\n",
    "    The naive approach is very straightforward. But it is too slow. So how can we optimize it?\n",
    "\n",
    "    In the naive approaches, we repeatedly check a substring to see if it has duplicate character. But it is unnecessary. If a substring s_{ij}s \n",
    "    ij\n",
    "    ​\t\n",
    "      from index ii to j - 1j−1 is already checked to have no duplicate characters. We only need to check if s[j]s[j] is already in the substring s_{ij}s \n",
    "    ij\n",
    "    ​\t\n",
    "     .\n",
    "\n",
    "    To check if a character is already in the substring, we can scan the substring, which leads to an O(n^2)O(n \n",
    "    2\n",
    "     ) algorithm. But we can do better.\n",
    "\n",
    "    By using HashSet as a sliding window, checking if a character in the current can be done in O(1)O(1).\n",
    "\n",
    "    A sliding window is an abstract concept commonly used in array/string problems. A window is a range of elements in the array/string which usually defined by the start and end indices, i.e. [i, j)[i,j) (left-closed, right-open). A sliding window is a window \"slides\" its two boundaries to the certain direction. For example, if we slide [i, j)[i,j) to the right by 11 element, then it becomes [i+1, j+1)[i+1,j+1) (left-closed, right-open).\n",
    "\n",
    "    Back to our problem. We use HashSet to store the characters in current window [i, j)[i,j) (j = ij=i initially). Then we slide the index jj to the right. If it is not in the HashSet, we slide jj further. Doing so until s[j] is already in the HashSet. At this point, we found the maximum size of substrings without duplicate characters start with index ii. If we do this for all ii, we get our answer.\n",
    "    \n",
    "    \n",
    "   #### JAVA Code\n",
    "       public class Solution {\n",
    "        public int lengthOfLongestSubstring(String s) {\n",
    "            int n = s.length();\n",
    "            Set<Character> set = new HashSet<>();\n",
    "            int ans = 0, i = 0, j = 0;\n",
    "            while (i < n && j < n) {\n",
    "                // try to extend the range [i, j]\n",
    "                if (!set.contains(s.charAt(j))){\n",
    "                    set.add(s.charAt(j++));\n",
    "                    ans = Math.max(ans, j - i);\n",
    "                }\n",
    "                else {\n",
    "                    set.remove(s.charAt(i++));\n",
    "                }\n",
    "            }\n",
    "            return ans;\n",
    "        }\n",
    "    }"
   ]
  },
  {
   "cell_type": "code",
   "execution_count": 1,
   "metadata": {},
   "outputs": [],
   "source": [
    "#Using Dict()\n",
    "def lengthOfLongestSubstring(s):\n",
    "        d=dict()\n",
    "        max=0\n",
    "        if(len(s)==1):\n",
    "            return (\"1\")\n",
    "        for j in range (len(s)):\n",
    "            for i in range(j,len(s)):\n",
    "                if s[i] not in d:\n",
    "                    d[s[i]]=1\n",
    "                elif(s[i] in d):\n",
    "                    l=len(d)\n",
    "                    if(l>max):\n",
    "                        max=l\n",
    "                    d={}\n",
    "                    break        \n",
    "        return(max)"
   ]
  },
  {
   "cell_type": "code",
   "execution_count": 3,
   "metadata": {},
   "outputs": [
    {
     "name": "stdout",
     "output_type": "stream",
     "text": [
      "Enter Number of test cases:3\n",
      "abcabcbb\n",
      "3\n",
      "bbbbb\n",
      "1\n",
      "pwwkew\n",
      "3\n"
     ]
    }
   ],
   "source": [
    "for testcase in range (int(input(\"Enter Number of test cases:\"))):\n",
    "    s=input()\n",
    "    print(lengthOfLongestSubstring(s))"
   ]
  },
  {
   "cell_type": "markdown",
   "metadata": {},
   "source": [
    "### Thanks, \n",
    "\n",
    "### Shubham Sagar\n",
    "\n",
    "### Follow me for more intresting programming questions :\n",
    "\t\t\t\t\t\t\thttps://www.github.com/shubhamthrills\n",
    "\t\t\t\t\t\t\thttps://www.instagaram.com/shubhamthrills\n",
    "\t\t\t\t\t\t\thttps://www.linkedin.com/in/shubhamsagar"
   ]
  }
 ],
 "metadata": {
  "kernelspec": {
   "display_name": "Python 3",
   "language": "python",
   "name": "python3"
  },
  "language_info": {
   "codemirror_mode": {
    "name": "ipython",
    "version": 3
   },
   "file_extension": ".py",
   "mimetype": "text/x-python",
   "name": "python",
   "nbconvert_exporter": "python",
   "pygments_lexer": "ipython3",
   "version": "3.7.4"
  }
 },
 "nbformat": 4,
 "nbformat_minor": 2
}
