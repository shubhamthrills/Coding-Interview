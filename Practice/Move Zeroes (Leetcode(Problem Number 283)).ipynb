{
 "cells": [
  {
   "cell_type": "markdown",
   "metadata": {},
   "source": [
    "# Question:\n",
    "    Given an array, write a function to move all 0's to the end of it while maintaining the relative order of the non-zero elements.\n",
    "        \n",
    "    NOTE:\n",
    "    1. Time complexity  : ---\n",
    "    2. Space complexity : ---\n",
    "    3. You must do this in-place without making a copy of the array.\n",
    "    4. Minimize the total number of operations\n",
    "    \n",
    "# Input/Output\n",
    "    Input: [0,1,0,3,12]\n",
    "    Output: [1,3,12,0,0]\n",
    "\n",
    "###### Leetcode(Problem Number: 283) (https://leetcode.com/problems/move-zeroes/) "
   ]
  },
  {
   "cell_type": "code",
   "execution_count": 3,
   "metadata": {},
   "outputs": [],
   "source": [
    "def moveZeroes(nums):\n",
    "        \"\"\"\n",
    "        Do not return anything, modify nums in-place instead.\n",
    "        \"\"\"\n",
    "        count = 0\n",
    "        n=len(nums)\n",
    "        for i in range(n): \n",
    "            if nums[i] != 0:\n",
    "                nums[count] = nums[i] \n",
    "                count+=1 \n",
    "        while count < n: \n",
    "            nums[count] = 0\n",
    "            count += 1"
   ]
  },
  {
   "cell_type": "code",
   "execution_count": 4,
   "metadata": {},
   "outputs": [
    {
     "name": "stdout",
     "output_type": "stream",
     "text": [
      "Array Input:0 1 0 3 12\n",
      "[1, 3, 12, 0, 0]\n"
     ]
    }
   ],
   "source": [
    "nums=map(int , input(\"Array Input:\").split(' '))\n",
    "nums=list(nums)\n",
    "moveZeroes(nums)\n",
    "print(nums)"
   ]
  },
  {
   "cell_type": "markdown",
   "metadata": {},
   "source": [
    "### Thanks, \n",
    "\n",
    "### Shubham Sagar\n",
    "\n",
    "### DM for any assist: www.instagaram.com/shubhamthrills  or www.github.com/shubhamthrills"
   ]
  }
 ],
 "metadata": {
  "kernelspec": {
   "display_name": "Python 3",
   "language": "python",
   "name": "python3"
  },
  "language_info": {
   "codemirror_mode": {
    "name": "ipython",
    "version": 3
   },
   "file_extension": ".py",
   "mimetype": "text/x-python",
   "name": "python",
   "nbconvert_exporter": "python",
   "pygments_lexer": "ipython3",
   "version": "3.7.4"
  }
 },
 "nbformat": 4,
 "nbformat_minor": 2
}
