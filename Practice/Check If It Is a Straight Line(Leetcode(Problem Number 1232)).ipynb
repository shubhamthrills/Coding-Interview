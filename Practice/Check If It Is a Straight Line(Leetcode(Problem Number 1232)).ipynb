{
 "cells": [
  {
   "cell_type": "markdown",
   "metadata": {},
   "source": [
    "# Question:\n",
    "    You are given an array coordinates, coordinates[i] = [x, y], where [x, y] represents the coordinate of a point. Check if these points make a straight line in the XY plane.\n",
    "    \n",
    "    NOTE:\n",
    "    1. Time complextiy  : ----\n",
    "    2. Space complexity : ----\n",
    "    \n",
    "    Constraints:\n",
    "\n",
    "    1. 2 <= coordinates.length <= 1000\n",
    "    2. coordinates[i].length == 2\n",
    "    3. -10^4 <= coordinates[i][0], coordinates[i][1] <= 10^4\n",
    "    4. coordinates contains no duplicate point.\n",
    "\n",
    "    \n",
    "# Input/Output\n",
    "    Example 1:\n",
    "\n",
    "    Input: coordinates = [[1,2],[2,3],[3,4],[4,5],[5,6],[6,7]]\n",
    "    Output: true\n",
    "\n",
    "    Example 2:\n",
    "\n",
    "    Input: coordinates = [[1,1],[2,2],[3,4],[4,5],[5,6],[7,7]]\n",
    "    Output: false\n",
    "###### Leetcode(Problem Number: 1232)"
   ]
  },
  {
   "cell_type": "code",
   "execution_count": 11,
   "metadata": {},
   "outputs": [],
   "source": [
    "def checkStraightLine(coordinates):\n",
    "        x_1, y_1 = coordinates[0]\n",
    "        x_2, y_2 = coordinates[1]\n",
    "        x_slope = x_2 - x_1\n",
    "        y_slope = y_2 - y_1\n",
    "        for x, y in coordinates[2:]:\n",
    "            x_s = x - x_1 \n",
    "            y_s = y - y_1 \n",
    "            if x_s * y_slope != y_s * x_slope:\n",
    "                return False\n",
    "        return True"
   ]
  },
  {
   "cell_type": "code",
   "execution_count": 13,
   "metadata": {},
   "outputs": [
    {
     "name": "stdout",
     "output_type": "stream",
     "text": [
      "Enter Number of test cases:1\n",
      "True\n",
      "False\n"
     ]
    }
   ],
   "source": [
    "for testcase in range (int(input(\"Enter Number of test cases:\"))):\n",
    "    #nums=map(str , input(\"Input:\").split(' '))\n",
    "    #nums=list(nums)\n",
    "    coordinates1 = [[1,2],[2,3],[3,4],[4,5],[5,6],[6,7]]\n",
    "    coordinates2 = [[1,1],[2,2],[3,4],[4,5],[5,6],[7,7]]\n",
    "    print(checkStraightLine(coordinates1))\n",
    "    print(checkStraightLine(coordinates2))"
   ]
  },
  {
   "cell_type": "markdown",
   "metadata": {},
   "source": [
    "### Thanks, \n",
    "\n",
    "### Shubham Sagar\n",
    "\n",
    "### Follow me for more interesting programming questions :\n",
    "\t\t\t\t\t\t\thttps://www.github.com/shubhamthrills\n",
    "\t\t\t\t\t\t\thttps://www.instagaram.com/shubhamthrills\n",
    "\t\t\t\t\t\t\thttps://www.linkedin.com/in/shubhamsagar"
   ]
  }
 ],
 "metadata": {
  "kernelspec": {
   "display_name": "Python 3",
   "language": "python",
   "name": "python3"
  },
  "language_info": {
   "codemirror_mode": {
    "name": "ipython",
    "version": 3
   },
   "file_extension": ".py",
   "mimetype": "text/x-python",
   "name": "python",
   "nbconvert_exporter": "python",
   "pygments_lexer": "ipython3",
   "version": "3.7.4"
  }
 },
 "nbformat": 4,
 "nbformat_minor": 2
}
