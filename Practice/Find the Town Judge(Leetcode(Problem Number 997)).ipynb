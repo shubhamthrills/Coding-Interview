{
 "cells": [
  {
   "cell_type": "markdown",
   "metadata": {},
   "source": [
    "# Question:\n",
    "    In a town, there are N people labelled from 1 to N.  There is a rumor that one of these people is secretly the town judge.\n",
    "\n",
    "    If the town judge exists, then:\n",
    "\n",
    "    The town judge trusts nobody.\n",
    "    Everybody (except for the town judge) trusts the town judge.\n",
    "    There is exactly one person that satisfies properties 1 and 2.\n",
    "    You are given trust, an array of pairs trust[i] = [a, b] representing that the person labelled a trusts the person labelled b.\n",
    "\n",
    "    If the town judge exists and can be identified, return the label of the town judge.  Otherwise, return -1.\n",
    "    \n",
    "    NOTE:\n",
    "    1. Time complextiy  : O(N)\n",
    "    2. Space complexity : O(N)\n",
    "    3. 1 <= N <= 1000\n",
    "    4. trust.length <= 10000\n",
    "    5. trust[i] are all different\n",
    "    6. trust[i][0] != trust[i][1]\n",
    "    7. 1 <= trust[i][0], trust[i][1] <= N\n",
    "    \n",
    "# Input/Output\n",
    "    Example 1:\n",
    "\n",
    "    Input: N = 2, trust = [[1,2]]\n",
    "    Output: 2\n",
    "    \n",
    "    Example 2:\n",
    "\n",
    "    Input: N = 3, trust = [[1,3],[2,3]]\n",
    "    Output: 3\n",
    "    \n",
    "    Example 3:\n",
    "\n",
    "    Input: N = 3, trust = [[1,3],[2,3],[3,1]]\n",
    "    Output: -1\n",
    "    \n",
    "    Example 4:\n",
    "\n",
    "    Input: N = 3, trust = [[1,2],[2,3]]\n",
    "    Output: -1\n",
    "    \n",
    "    Example 5:\n",
    "\n",
    "    Input: N = 4, trust = [[1,3],[1,4],[2,3],[2,4],[4,3]]\n",
    "    Output: 3\n",
    "###### Leetcode(Problem Number: 997)"
   ]
  },
  {
   "cell_type": "markdown",
   "metadata": {},
   "source": [
    "### Implementation\n",
    "If a person got trusted by other people, increase the trust score by 1, since this person receives trust from others.\n",
    "If a person trusts other people, decrease the trust score by 1, since this person gives its trust to others.\n",
    "The judge must have trust score of N-1, because judge receives trust from all other N-1 persons and judge never gives its trust.\n",
    "So, iterate the input list, calculate the trust score for each persion.\n",
    "Find out if there is a person has trust score of N+1.\n",
    "There would never be a case that two people got N+1 score.\n",
    "If we find a person with N-1 scores, all other people must give out their trust to this person, because trust[i] are all different.\n",
    "If a person gives out trust, the score can never reach N-1. So, there would never be a case that two people got N+1 score.\n"
   ]
  },
  {
   "cell_type": "code",
   "execution_count": 14,
   "metadata": {},
   "outputs": [],
   "source": [
    "def findJudge(N, trust):\n",
    "        trust_score = [0]*(N+1) # index will be the id of each persion, 0 is a dummy person.\n",
    "        for a, b in trust:\n",
    "            trust_score[b] += 1\n",
    "            trust_score[a] -= 1\n",
    "\n",
    "        for idx, indegree in enumerate(trust_score):\n",
    "            if idx != 0 and indegree == N-1:\n",
    "                return idx\n",
    "        return -1"
   ]
  },
  {
   "cell_type": "code",
   "execution_count": 15,
   "metadata": {},
   "outputs": [
    {
     "name": "stdout",
     "output_type": "stream",
     "text": [
      "Enter Number of test cases:1\n",
      "-1\n"
     ]
    }
   ],
   "source": [
    "for testcase in range (int(input(\"Enter Number of test cases:\"))):\n",
    "    #nums=map(str , input(\"Input:\").split(' '))\n",
    "    #nums=list(nums)\n",
    "    N=3\n",
    "    trust = [[1,3],[2,3],[3,1]]\n",
    "    print(findJudge(N,trust))"
   ]
  },
  {
   "cell_type": "markdown",
   "metadata": {},
   "source": [
    "### Thanks, \n",
    "\n",
    "### Shubham Sagar\n",
    "\n",
    "### Follow me for more interesting programming questions :\n",
    "\t\t\t\t\t\t\thttps://www.github.com/shubhamthrills\n",
    "\t\t\t\t\t\t\thttps://www.instagaram.com/shubhamthrills\n",
    "\t\t\t\t\t\t\thttps://www.linkedin.com/in/shubhamsagar"
   ]
  }
 ],
 "metadata": {
  "kernelspec": {
   "display_name": "Python 3",
   "language": "python",
   "name": "python3"
  },
  "language_info": {
   "codemirror_mode": {
    "name": "ipython",
    "version": 3
   },
   "file_extension": ".py",
   "mimetype": "text/x-python",
   "name": "python",
   "nbconvert_exporter": "python",
   "pygments_lexer": "ipython3",
   "version": "3.7.4"
  }
 },
 "nbformat": 4,
 "nbformat_minor": 2
}
