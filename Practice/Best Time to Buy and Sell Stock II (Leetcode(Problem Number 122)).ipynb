{
 "cells": [
  {
   "cell_type": "markdown",
   "metadata": {},
   "source": [
    "# Question:\n",
    "    Say you have an array for which the ith element is the price of a given stock on day i.\n",
    "\n",
    "    Design an algorithm to find the maximum profit. You may complete as many transactions as you like (i.e., buy one and sell one share of the stock multiple times).\n",
    "        \n",
    "    NOTE:\n",
    "    1. Time complexity  : O(n)\n",
    "    2. Space complexity : O(1)\n",
    "    3. You may not engage in multiple transactions at the same time (i.e., you must sell the stock before you buy again).\n",
    "    \n",
    "# Input/Output\n",
    "    Input: [7,1,5,3,6,4]\n",
    "    Output: 7\n",
    "    Explanation: Buy on day 2 (price = 1) and sell on day 3 (price = 5), profit = 5-1 = 4.\n",
    "             Then buy on day 4 (price = 3) and sell on day 5 (price = 6), profit = 6-3 = 3.\n",
    "\n",
    "    Input: [1,2,3,4,5]\n",
    "    Output: 4\n",
    "    Explanation: Buy on day 1 (price = 1) and sell on day 5 (price = 5), profit = 5-1 = 4.\n",
    "             Note that you cannot buy on day 1, buy on day 2 and sell them later, as you are\n",
    "             engaging multiple transactions at the same time. You must sell before buying again.\n",
    "    Input: [7,6,4,3,1]\n",
    "    Output: 0\n",
    "    Explanation: In this case, no transaction is done, i.e. max profit = 0.\n",
    "###### Leetcode(Problem Number: 122) (https://leetcode.com/problems/best-time-to-buy-and-sell-stock-ii/) "
   ]
  },
  {
   "cell_type": "markdown",
   "metadata": {},
   "source": [
    "#### Simple One Pass\n",
    "Algorithm\n",
    "\n",
    "This solution follows the logic used in Approach 2 itself, but with only a slight variation. In this case, instead of looking for every peak following a valley, we can simply go on crawling over the slope and keep on adding the profit obtained from every consecutive transaction. In the end,we will be using the peaks and valleys effectively, but we need not track the costs corresponding to the peaks and valleys along with the maximum profit, but we can directly keep on adding the difference between the consecutive numbers of the array if the second number is larger than the first one, and at the total sum we obtain will be the maximum profit. This approach will simplify the solution. This can be made clearer by taking this example:\n",
    "\n",
    "[1, 7, 2, 3, 6, 7, 6, 7]\n",
    "\n",
    "The graph corresponding to this array is:"
   ]
  },
  {
   "cell_type": "markdown",
   "metadata": {},
   "source": [
    "![title](122_maxprofit_2.png)"
   ]
  },
  {
   "cell_type": "markdown",
   "metadata": {},
   "source": [
    "From the above graph, we can observe that the sum A+B+CA+B+C is equal to the difference DD corresponding to the difference between the heights of the consecutive peak and valley."
   ]
  },
  {
   "cell_type": "code",
   "execution_count": 9,
   "metadata": {},
   "outputs": [],
   "source": [
    "def maxProfit(prices):\n",
    "        maxprofit = 0;\n",
    "        for i in range(1,len(prices),1):\n",
    "            if (prices[i] > prices[i - 1]):\n",
    "                maxprofit += prices[i] - prices[i - 1];\n",
    "        return (maxprofit)"
   ]
  },
  {
   "cell_type": "code",
   "execution_count": 10,
   "metadata": {},
   "outputs": [
    {
     "name": "stdout",
     "output_type": "stream",
     "text": [
      "Array Input:7 1 5 3 6 4\n",
      "7\n"
     ]
    }
   ],
   "source": [
    "nums=map(int , input(\"Array Input:\").split(' '))\n",
    "nums=list(nums)\n",
    "print(maxProfit(nums))"
   ]
  },
  {
   "cell_type": "code",
   "execution_count": 11,
   "metadata": {},
   "outputs": [
    {
     "name": "stdout",
     "output_type": "stream",
     "text": [
      "Array Input:1 2 3 4 5\n",
      "4\n"
     ]
    }
   ],
   "source": [
    "nums=map(int , input(\"Array Input:\").split(' '))\n",
    "nums=list(nums)\n",
    "print(maxProfit(nums))"
   ]
  },
  {
   "cell_type": "code",
   "execution_count": 12,
   "metadata": {},
   "outputs": [
    {
     "name": "stdout",
     "output_type": "stream",
     "text": [
      "Array Input:7 6 4 3 1\n",
      "0\n"
     ]
    }
   ],
   "source": [
    "nums=map(int , input(\"Array Input:\").split(' '))\n",
    "nums=list(nums)\n",
    "print(maxProfit(nums))"
   ]
  },
  {
   "cell_type": "markdown",
   "metadata": {},
   "source": [
    "### Thanks, \n",
    "\n",
    "### Shubham Sagar\n",
    "\n",
    "### DM for any assist: www.instagaram.com/shubhamthrills  or www.github.com/shubhamthrills"
   ]
  }
 ],
 "metadata": {
  "kernelspec": {
   "display_name": "Python 3",
   "language": "python",
   "name": "python3"
  },
  "language_info": {
   "codemirror_mode": {
    "name": "ipython",
    "version": 3
   },
   "file_extension": ".py",
   "mimetype": "text/x-python",
   "name": "python",
   "nbconvert_exporter": "python",
   "pygments_lexer": "ipython3",
   "version": "3.7.4"
  }
 },
 "nbformat": 4,
 "nbformat_minor": 2
}
