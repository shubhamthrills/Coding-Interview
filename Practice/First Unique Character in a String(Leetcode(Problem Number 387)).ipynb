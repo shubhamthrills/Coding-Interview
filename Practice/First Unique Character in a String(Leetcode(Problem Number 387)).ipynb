{
 "cells": [
  {
   "cell_type": "markdown",
   "metadata": {},
   "source": [
    "# Question:\n",
    "    Given a string, find the first non-repeating character in it and return it's index. If it doesn't exist, return -1.\n",
    "    \n",
    "    NOTE:\n",
    "    1. Time complextiy  : ----\n",
    "    2. Space complexity : ----\n",
    "    3. You may assume that both strings contain only lowercase letters.\n",
    "\n",
    "    \n",
    "# Input/Output\n",
    "    Example 1:\n",
    "\n",
    "    s = \"leetcode\"\n",
    "    return 0.\n",
    "\n",
    "    Example 2:\n",
    "    s = \"loveleetcode\",\n",
    "    return 2.\n",
    "###### Leetcode(Problem Number: 387)"
   ]
  },
  {
   "cell_type": "code",
   "execution_count": 1,
   "metadata": {},
   "outputs": [],
   "source": [
    "def firstUniqChar(s):\n",
    "        dic={}\n",
    "        for item in s:\n",
    "            if item in dic:\n",
    "                dic[item]+=1\n",
    "            else:\n",
    "                dic[item]=1\n",
    "        lis=list(s)\n",
    "        for index in range(len(lis)):\n",
    "            if dic[lis[index]]==1:\n",
    "                return (index)\n",
    "        return -1"
   ]
  },
  {
   "cell_type": "code",
   "execution_count": 2,
   "metadata": {},
   "outputs": [
    {
     "name": "stdout",
     "output_type": "stream",
     "text": [
      "Enter Number of test cases:2\n",
      "Enter the string:leetcode\n",
      "0\n",
      "Enter the string:loveleetcode\n",
      "2\n"
     ]
    }
   ],
   "source": [
    "for testcase in range (int(input(\"Enter Number of test cases:\"))):\n",
    "    s=input(\"Enter the string:\")\n",
    "    print(firstUniqChar(s))"
   ]
  },
  {
   "cell_type": "markdown",
   "metadata": {},
   "source": [
    "### Thanks, \n",
    "\n",
    "### Shubham Sagar\n",
    "\n",
    "### Follow me for more interesting programming questions :\n",
    "\t\t\t\t\t\t\thttps://www.github.com/shubhamthrills\n",
    "\t\t\t\t\t\t\thttps://www.instagaram.com/shubhamthrills\n",
    "\t\t\t\t\t\t\thttps://www.linkedin.com/in/shubhamsagar"
   ]
  }
 ],
 "metadata": {
  "kernelspec": {
   "display_name": "Python 3",
   "language": "python",
   "name": "python3"
  },
  "language_info": {
   "codemirror_mode": {
    "name": "ipython",
    "version": 3
   },
   "file_extension": ".py",
   "mimetype": "text/x-python",
   "name": "python",
   "nbconvert_exporter": "python",
   "pygments_lexer": "ipython3",
   "version": "3.7.4"
  }
 },
 "nbformat": 4,
 "nbformat_minor": 2
}
