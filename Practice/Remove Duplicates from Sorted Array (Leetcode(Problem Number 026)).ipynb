{
 "cells": [
  {
   "cell_type": "markdown",
   "metadata": {},
   "source": [
    "# Question:\n",
    "    Given a sorted array nums, remove the duplicates in-place such that each element appear only once and return the new length.\n",
    "\n",
    "        \n",
    "    NOTE:\n",
    "    1. Time complextiy  : O(n)\n",
    "    2. Space complexity : O(1)\n",
    "\n",
    "    \n",
    "# Input/Output\n",
    "    Given nums = [1,1,2]\n",
    "    Your function should return length = 2, with the first two elements of nums being 1 and 2 respectively.\n",
    "    It doesn't matter what you leave beyond the returned length.\n",
    " \n",
    "    Given nums = [0,0,1,1,1,2,2,3,3,4]\n",
    "    Your function should return length = 5, with the first five elements of nums being modified to 0, 1, 2, 3, and 4 respectively.\n",
    "    It doesn't matter what values are set beyond the returned length.\n",
    "###### Leetcode(Problem Number: 026)"
   ]
  },
  {
   "cell_type": "markdown",
   "metadata": {},
   "source": [
    "#### Approach: Two Pointers\n",
    "\n",
    "Since the array is already sorted, we can keep two pointers ii and jj, where ii is the slow-runner while jj is the fast-runner. As long as nums[i] = nums[j]nums[i]=nums[j], we increment jj to skip the duplicate.\n",
    "\n",
    "When we encounter nums[j] \\neq nums[i]nums[j] \n",
    "\n",
    "​\t\n",
    " =nums[i], the duplicate run has ended so we must copy its value to nums[i + 1]nums[i+1]. ii is then incremented and we repeat the same process again until jj reaches the end of array."
   ]
  },
  {
   "cell_type": "code",
   "execution_count": 2,
   "metadata": {},
   "outputs": [],
   "source": [
    "    def removeDuplicates(nums):\n",
    "        if(len(nums)==0):\n",
    "            return (0)\n",
    "        i=0\n",
    "        for j in range(1,len(nums),1):\n",
    "            if(nums[j] !=nums[i]):\n",
    "                i+=1\n",
    "                nums[i]=nums[j]\n",
    "        return(i+1)"
   ]
  },
  {
   "cell_type": "code",
   "execution_count": 3,
   "metadata": {},
   "outputs": [
    {
     "name": "stdout",
     "output_type": "stream",
     "text": [
      "Enter Number of test cases:2\n",
      "Array Input:1 1 2\n",
      "2\n",
      "Array Input:0 1 1 1 2 2 3 3 4\n",
      "5\n"
     ]
    }
   ],
   "source": [
    "for testcase in range (int(input(\"Enter Number of test cases:\"))):\n",
    "    nums=map(int , input(\"Array Input:\").split(' '))\n",
    "    nums=list(nums)\n",
    "    print(removeDuplicates(nums))"
   ]
  },
  {
   "cell_type": "markdown",
   "metadata": {},
   "source": [
    "### Thanks, \n",
    "\n",
    "### Shubham Sagar\n",
    "\n",
    "### DM for any assist: www.instagaram.com/shubhamthrills  or www.github.com/shubhamthrills"
   ]
  }
 ],
 "metadata": {
  "kernelspec": {
   "display_name": "Python 3",
   "language": "python",
   "name": "python3"
  },
  "language_info": {
   "codemirror_mode": {
    "name": "ipython",
    "version": 3
   },
   "file_extension": ".py",
   "mimetype": "text/x-python",
   "name": "python",
   "nbconvert_exporter": "python",
   "pygments_lexer": "ipython3",
   "version": "3.7.4"
  }
 },
 "nbformat": 4,
 "nbformat_minor": 2
}
