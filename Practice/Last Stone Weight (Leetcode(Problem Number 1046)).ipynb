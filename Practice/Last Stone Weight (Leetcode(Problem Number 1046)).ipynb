{
 "cells": [
  {
   "cell_type": "markdown",
   "metadata": {},
   "source": [
    "# Question:\n",
    "    We have a collection of stones, each stone has a positive integer weight.\n",
    "    Each turn, we choose the two heaviest stones and smash them together.  Suppose the stones have weights x and y with x <= y.  The result of this smash is:\n",
    "    If x == y, both stones are totally destroyed;\n",
    "    If x != y, the stone of weight x is totally destroyed, and the stone of weight y has new weight y-x.\n",
    "    At the end, there is at most 1 stone left.  Return the weight of this stone (or 0 if there are no stones left.)\n",
    "    \n",
    "    NOTE:\n",
    "    1. Time complextiy  : ----\n",
    "    2. Space complexity : ----\n",
    "    3. 1 <= stones.length <= 30\n",
    "    4. 1 <= stones[i] <= 1000\n",
    "\n",
    "    \n",
    "# Input/Output\n",
    "    Input: [2,7,4,1,8,1]\n",
    "    Output: 1\n",
    "    Explanation: \n",
    "    We combine 7 and 8 to get 1 so the array converts to [2,4,1,1,1] then,\n",
    "    we combine 2 and 4 to get 2 so the array converts to [2,1,1,1] then,\n",
    "    we combine 2 and 1 to get 1 so the array converts to [1,1,1] then,\n",
    "    we combine 1 and 1 to get 0 so the array converts to [1] then that's the value of last stone.\n",
    "\n",
    "###### Leetcode(Problem Number: 1046)"
   ]
  },
  {
   "cell_type": "code",
   "execution_count": 1,
   "metadata": {},
   "outputs": [],
   "source": [
    "def lastStoneWeight(stones):\n",
    "        for i in range(len(stones) - 1):\n",
    "            stones.sort()\n",
    "            stones.append(stones.pop() - stones.pop()) \n",
    "        return stones[0]"
   ]
  },
  {
   "cell_type": "code",
   "execution_count": 2,
   "metadata": {},
   "outputs": [
    {
     "name": "stdout",
     "output_type": "stream",
     "text": [
      "Enter Number of test cases:1\n",
      "Input:2 7 4 1 8 1\n",
      "1\n"
     ]
    }
   ],
   "source": [
    "for testcase in range (int(input(\"Enter Number of test cases:\"))):\n",
    "    nums=map(int , input(\"Input:\").split(' '))\n",
    "    nums=list(nums)\n",
    "    print(lastStoneWeight(nums))"
   ]
  },
  {
   "cell_type": "markdown",
   "metadata": {},
   "source": [
    "### Thanks, \n",
    "\n",
    "### Shubham Sagar\n",
    "\n",
    "### Follow me for more intresting programming questions :\n",
    "\t\t\t\t\t\t\thttps://www.github.com/shubhamthrills\n",
    "\t\t\t\t\t\t\thttps://www.instagaram.com/shubhamthrills\n",
    "\t\t\t\t\t\t\thttps://www.linkedin.com/in/shubhamsagar"
   ]
  }
 ],
 "metadata": {
  "kernelspec": {
   "display_name": "Python 3",
   "language": "python",
   "name": "python3"
  },
  "language_info": {
   "codemirror_mode": {
    "name": "ipython",
    "version": 3
   },
   "file_extension": ".py",
   "mimetype": "text/x-python",
   "name": "python",
   "nbconvert_exporter": "python",
   "pygments_lexer": "ipython3",
   "version": "3.7.4"
  }
 },
 "nbformat": 4,
 "nbformat_minor": 2
}
