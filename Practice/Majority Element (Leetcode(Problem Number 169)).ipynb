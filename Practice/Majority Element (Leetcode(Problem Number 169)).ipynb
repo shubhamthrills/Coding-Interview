{
 "cells": [
  {
   "cell_type": "markdown",
   "metadata": {},
   "source": [
    "# Question:\n",
    "    Given an array of size n, find the majority element. The majority element is the element that appears more than ⌊ n/2 ⌋ times.You may assume that the array is non-empty and the majority element always exist in the array.\n",
    "    \n",
    "    NOTE:\n",
    "    1. Time complextiy  : o(n)\n",
    "    2. Space complexity : ----\n",
    "\n",
    "    \n",
    "# Input/Output\n",
    "    Example 1:\n",
    "\n",
    "    Input: [3,2,3]\n",
    "    Output: 3\n",
    "\n",
    "    Example 2:\n",
    "\n",
    "    Input: [2,2,1,1,1,2,2]\n",
    "    Output: 2\n",
    "\n",
    "###### Leetcode(Problem Number: 169)"
   ]
  },
  {
   "cell_type": "code",
   "execution_count": 1,
   "metadata": {},
   "outputs": [],
   "source": [
    "def majorityElement(nums):\n",
    "    d=dict()\n",
    "    for num in nums:\n",
    "        if(num in d):\n",
    "            d[num]+=1\n",
    "        else:\n",
    "            d[num]=1\n",
    "    n=len(nums)\n",
    "    for key,value in d.items():\n",
    "        if(value> n//2):\n",
    "            return (key)\n",
    "    return ('-1')"
   ]
  },
  {
   "cell_type": "code",
   "execution_count": 2,
   "metadata": {},
   "outputs": [
    {
     "name": "stdout",
     "output_type": "stream",
     "text": [
      "Enter Number of test cases:2\n",
      "Input:3 2 3\n",
      "3\n",
      "Input:2 2 1 1 1 2 2\n",
      "2\n"
     ]
    }
   ],
   "source": [
    "for testcase in range (int(input(\"Enter Number of test cases:\"))):\n",
    "    nums=map(int , input(\"Input:\").split(' '))\n",
    "    nums=list(nums)\n",
    "    print(majorityElement(nums))"
   ]
  },
  {
   "cell_type": "markdown",
   "metadata": {},
   "source": [
    "### Thanks, \n",
    "\n",
    "### Shubham Sagar\n",
    "\n",
    "### DM for any assist: www.instagaram.com/shubhamthrills  or www.github.com/shubhamthrills"
   ]
  }
 ],
 "metadata": {
  "kernelspec": {
   "display_name": "Python 3",
   "language": "python",
   "name": "python3"
  },
  "language_info": {
   "codemirror_mode": {
    "name": "ipython",
    "version": 3
   },
   "file_extension": ".py",
   "mimetype": "text/x-python",
   "name": "python",
   "nbconvert_exporter": "python",
   "pygments_lexer": "ipython3",
   "version": "3.7.4"
  }
 },
 "nbformat": 4,
 "nbformat_minor": 2
}
