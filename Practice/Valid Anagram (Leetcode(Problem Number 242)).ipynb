{
 "cells": [
  {
   "cell_type": "markdown",
   "metadata": {},
   "source": [
    "# Question:\n",
    "    Given two strings s and t , write a function to determine if t is an anagram of s.\n",
    "    \n",
    "    NOTE:\n",
    "    1. Time complextiy  : O(n) and O(nlogn)\n",
    "    2. Space complexity : ----\n",
    "    3.You may assume the string contains only lowercase alphabets.\n",
    "\n",
    "    \n",
    "# Input/Output\n",
    "    Example 1:\n",
    "\n",
    "    Input: s = \"anagram\", t = \"nagaram\"\n",
    "    Output: true\n",
    "\n",
    "    Example 2:\n",
    "\n",
    "    Input: s = \"rat\", t = \"car\"\n",
    "    Output: false\n",
    "\n",
    "###### Leetcode(Problem Number: 242)"
   ]
  },
  {
   "cell_type": "markdown",
   "metadata": {},
   "source": [
    "###### Approach #1 (Sorting) [Accepted]\n",
    "\n",
    "    An anagram is produced by rearranging the letters of ss into tt. Therefore, if tt is an anagram of ss, sorting both strings will result in two identical strings. Furthermore, if ss and tt have different lengths, tt must not be an anagram of ss and we can return early.\n",
    "\n",
    "    public boolean isAnagram(String s, String t) {\n",
    "        if (s.length() != t.length()) {\n",
    "            return false;\n",
    "        }\n",
    "        char[] str1 = s.toCharArray();\n",
    "        char[] str2 = t.toCharArray();\n",
    "        Arrays.sort(str1);\n",
    "        Arrays.sort(str2);\n",
    "        return Arrays.equals(str1, str2);\n",
    "    }\n",
    "\n",
    "    Complexity analysis\n",
    "\n",
    "    Time complexity : O(n \\log n)O(nlogn). Assume that nn is the length of ss, sorting costs O(n \\log n)O(nlogn) and comparing two strings costs O(n)O(n). Sorting time dominates and the overall time complexity is O(n \\log n)O(nlogn).\n",
    "\n",
    "    Space complexity : O(1)O(1). Space depends on the sorting implementation which, usually, costs O(1)O(1) auxiliary space if heapsort is used. Note that in Java, toCharArray() makes a copy of the string so it costs O(n)O(n) extra space, but we ignore this for complexity analysis because:\n",
    "\n",
    "\n",
    "###### Approach #2 (Hash Table) [Accepted]\n",
    "    Algorithm\n",
    "\n",
    "    To examine if tt is a rearrangement of ss, we can count occurrences of each letter in the two strings and compare them. Since both ss and tt contain only letters from a-za−z, a simple counter table of size 26 is suffice.\n",
    "\n",
    "    Do we need two counter tables for comparison? Actually no, because we could increment the counter for each letter in ss and decrement the counter for each letter in tt, then check if the counter reaches back to zero.\n",
    "\n",
    "    public boolean isAnagram(String s, String t) {\n",
    "        if (s.length() != t.length()) {\n",
    "            return false;\n",
    "        }\n",
    "        int[] counter = new int[26];\n",
    "        for (int i = 0; i < s.length(); i++) {\n",
    "            counter[s.charAt(i) - 'a']++;\n",
    "            counter[t.charAt(i) - 'a']--;\n",
    "        }\n",
    "        for (int count : counter) {\n",
    "            if (count != 0) {\n",
    "                return false;\n",
    "            }\n",
    "        }\n",
    "        return true;\n",
    "    }\n",
    "    Or we could first increment the counter for ss, then decrement the counter for tt. If at any point the counter drops below zero, we know that tt contains an extra letter not in ss and return false immediately.\n",
    "\n",
    "    public boolean isAnagram(String s, String t) {\n",
    "        if (s.length() != t.length()) {\n",
    "            return false;\n",
    "        }\n",
    "        int[] table = new int[26];\n",
    "        for (int i = 0; i < s.length(); i++) {\n",
    "            table[s.charAt(i) - 'a']++;\n",
    "        }\n",
    "        for (int i = 0; i < t.length(); i++) {\n",
    "            table[t.charAt(i) - 'a']--;\n",
    "            if (table[t.charAt(i) - 'a'] < 0) {\n",
    "                return false;\n",
    "            }\n",
    "        }\n",
    "        return true;\n",
    "    }\n",
    "\n",
    "    Complexity analysis\n",
    "\n",
    "    Time complexity : O(n)O(n). Time complexity is O(n)O(n) because accessing the counter table is a constant time operation.\n",
    "\n",
    "    Space complexity : O(1)O(1). Although we do use extra space, the space complexity is O(1)O(1) because the table's size stays constant no matter how large nn is."
   ]
  },
  {
   "cell_type": "code",
   "execution_count": 2,
   "metadata": {},
   "outputs": [],
   "source": [
    "#Order of nlogn approch\n",
    "def isAnagram(s,t):\n",
    "        return sorted(s)==sorted(t)"
   ]
  },
  {
   "cell_type": "code",
   "execution_count": 1,
   "metadata": {},
   "outputs": [],
   "source": [
    "#Order of n approch\n",
    "def isAnagram2(s, t):\n",
    "    dic1, dic2 = {}, {}\n",
    "    for item in s:\n",
    "        dic1[item] = dic1.get(item, 0) + 1\n",
    "    for item in t:\n",
    "        dic2[item] = dic2.get(item, 0) + 1\n",
    "    return dic1 == dic2"
   ]
  },
  {
   "cell_type": "code",
   "execution_count": 4,
   "metadata": {},
   "outputs": [
    {
     "name": "stdout",
     "output_type": "stream",
     "text": [
      "Enter Number of test cases:2\n",
      "anagram\n",
      "nagaram\n",
      "Using Sorting: True\n",
      "Using Dic: True\n",
      "rat\n",
      "car\n",
      "Using Sorting: False\n",
      "Using Dic: False\n"
     ]
    }
   ],
   "source": [
    "for testcase in range (int(input(\"Enter Number of test cases:\"))):\n",
    "    s=input()\n",
    "    t=input()\n",
    "    print(\"Using Sorting:\",isAnagram(s,t))\n",
    "    print(\"Using Dic:\",isAnagram2(s,t))"
   ]
  },
  {
   "cell_type": "markdown",
   "metadata": {},
   "source": [
    "### Thanks, \n",
    "\n",
    "### Shubham Sagar\n",
    "\n",
    "### Follow me for more intresting programming questions :\n",
    "\t\t\t\t\t\t\thttps://www.github.com/shubhamthrills\n",
    "\t\t\t\t\t\t\thttps://www.instagaram.com/shubhamthrills\n",
    "\t\t\t\t\t\t\thttps://www.linkedin.com/in/shubhamsagar"
   ]
  }
 ],
 "metadata": {
  "kernelspec": {
   "display_name": "Python 3",
   "language": "python",
   "name": "python3"
  },
  "language_info": {
   "codemirror_mode": {
    "name": "ipython",
    "version": 3
   },
   "file_extension": ".py",
   "mimetype": "text/x-python",
   "name": "python",
   "nbconvert_exporter": "python",
   "pygments_lexer": "ipython3",
   "version": "3.7.4"
  }
 },
 "nbformat": 4,
 "nbformat_minor": 2
}
